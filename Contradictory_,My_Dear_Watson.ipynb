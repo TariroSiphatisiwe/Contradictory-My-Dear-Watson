{
  "nbformat": 4,
  "nbformat_minor": 0,
  "metadata": {
    "colab": {
      "provenance": [],
      "mount_file_id": "1lj5QlEXEQJqvcGMWaI8ziD9Htvet6Bwi",
      "authorship_tag": "ABX9TyPl3lciayHkp651as/yKi+l",
      "include_colab_link": true
    },
    "kernelspec": {
      "name": "python3",
      "display_name": "Python 3"
    },
    "language_info": {
      "name": "python"
    }
  },
  "cells": [
    {
      "cell_type": "markdown",
      "metadata": {
        "id": "view-in-github",
        "colab_type": "text"
      },
      "source": [
        "<a href=\"https://colab.research.google.com/github/TariroSiphatisiwe/Contradictory-My-Dear-Watson/blob/main/Contradictory_%2CMy_Dear_Watson.ipynb\" target=\"_parent\"><img src=\"https://colab.research.google.com/assets/colab-badge.svg\" alt=\"Open In Colab\"/></a>"
      ]
    },
    {
      "cell_type": "markdown",
      "source": [
        "<h1 ><b><font color='#30595B'>Contradictory, My Dear Watson</font></b></h1>\n",
        "\n",
        "<div><h2><b><font color='#C496A4'><span><font color='#30595B'>>>></font></span> BACKGROUND\n",
        "</b></h2></div>\n",
        "\n",
        "\n",
        "\n",
        "Imagine you have two sentences, like building blocks.\n",
        "\n",
        "These are the three ways they could connect to create meaning:\n",
        "\n",
        "\n",
        "<div><h3><b><font color='#30595B'>1. Entailment</b></h3></div>\n",
        "\n",
        "\n",
        "\n",
        "\n",
        "This means one sentence NECESSARILY includes the meaning of the other.\n",
        "In other words, if the first sentence is true, the second one MUST also be true.\n",
        "\n",
        "<b>For example:</b>\n",
        "\n",
        "Sentence 1: It is raining outside.\n",
        "\n",
        "Sentence 2: The ground is wet.\n",
        "\n",
        "\n",
        "If it's raining, then the ground will definitely get wet eventually.\n",
        "The first sentence (raining) entails the second (wet ground).\n",
        "\n",
        "\n",
        "\n",
        "\n",
        "<div><h3><b><font color='#30595B'>2. Contradiction</b></h3></div>\n",
        "\n",
        "\n",
        "\n",
        "This is when the two sentences cannot both be true at the same time.\n",
        "They completely oppose each other.\n",
        "\n",
        "<b>For example:</b>\n",
        "\n",
        "Sentence 1: The cat is on the mat.\n",
        "\n",
        "Sentence 2: The cat is not on the mat.\n",
        "\n",
        "These two sentences directly contradict each other. Only one can be true at a time.\n",
        "\n",
        "\n",
        "\n",
        "\n",
        "<div><h3><b><font color='#30595B'>3. Unrelated</b></h3></div>\n",
        "\n",
        "\n",
        "\n",
        "Sometimes, sentences cover completely different topics and have no bearing on each other.\n",
        "They're like independent islands of information.\n",
        "\n",
        "<b>For example:</b>\n",
        "\n",
        "Sentence 1: I ate pizza for dinner.\n",
        "\n",
        "Sentence 2: The Eiffel Tower is in Paris.\n",
        "\n",
        "\n",
        "\n",
        "\n",
        "<div><h2><b><font color='#C496A4'><span><font color='#30595B'>>>></font></span> PROBLEM\n",
        "</b></h2></div>\n",
        "\n",
        "\n",
        "To create an <b>NLI model</b> that assigns labels of 0, 1, or 2 to pairs of premises and hypotheses.\n",
        "\n",
        "<b>Premises:</b> It's a starting point, a statement that's generally considered true or accepted as a fact. It sets the stage for the next step.\n",
        "\n",
        "<b>Hypotheses:</b> It's what you're trying to prove or disprove using the information in the premise. It's an idea that needs evidence to be confirmed as true or false.\n",
        "```\n",
        "0 == entailment\n",
        "1 == neutral\n",
        "2 == contradiction\n",
        "```\n",
        "\n",
        "<div><h2><b><font color='#C496A4'><span><font color='#30595B'>>>></font></span> DATA\n",
        "</b></h2></div>\n",
        "\n",
        "The data used in this Google Colab Notebook is from Kaggle's Contradictory, My Dear Watson\n",
        "Competition.\n",
        "\n",
        "[Kaggle Link](https://www.kaggle.com/competitions/contradictory-my-dear-watson/data)\n",
        "\n"
      ],
      "metadata": {
        "id": "_cXGDDIdYQxu"
      }
    },
    {
      "cell_type": "code",
      "source": [],
      "metadata": {
        "id": "ekfd2P3gYQWH"
      },
      "execution_count": null,
      "outputs": []
    }
  ]
}