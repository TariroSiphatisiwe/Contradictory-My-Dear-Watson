{
  "nbformat": 4,
  "nbformat_minor": 0,
  "metadata": {
    "colab": {
      "provenance": [],
      "mount_file_id": "1lj5QlEXEQJqvcGMWaI8ziD9Htvet6Bwi",
      "authorship_tag": "ABX9TyMorogLYVTMNAN+/eHKl2oc",
      "include_colab_link": true
    },
    "kernelspec": {
      "name": "python3",
      "display_name": "Python 3"
    },
    "language_info": {
      "name": "python"
    }
  },
  "cells": [
    {
      "cell_type": "markdown",
      "metadata": {
        "id": "view-in-github",
        "colab_type": "text"
      },
      "source": [
        "<a href=\"https://colab.research.google.com/github/TariroSiphatisiwe/Contradictory-My-Dear-Watson/blob/main/Contradictory_%2CMy_Dear_Watson.ipynb\" target=\"_parent\"><img src=\"https://colab.research.google.com/assets/colab-badge.svg\" alt=\"Open In Colab\"/></a>"
      ]
    },
    {
      "cell_type": "markdown",
      "source": [
        "<h1 ><b><font color='#30595B'>Contradictory, My Dear Watson</font></b></h1>\n",
        "\n",
        "<div><b><font color='#C496A4'><span><font color='#30595B'>>>></font></span>\n",
        "BACKGROUND.\n",
        "</b></div>\n",
        "\n",
        "\n",
        "```\n",
        "Imagine you have two sentences, like building blocks. Here are the three ways they could connect to create meaning:\n",
        "```\n",
        "\n",
        "<div><b><font color='#C496A4'>Entailment</b></div>\n",
        "\n",
        "\n",
        "```\n",
        "\n",
        "This means one sentence NECESSARILY includes the meaning of the other.In other words, if the first sentence is true, the second one MUST also be true.\n",
        "\n",
        "For example:\n",
        "\n",
        "Sentence 1: It is raining outside.\n",
        "\n",
        "Sentence 2: The ground is wet.\n",
        "\n",
        "If it's raining, then the ground will definitely get wet eventually.\n",
        "\n",
        "The first sentence (raining) entails the second (wet ground).\n",
        "\n",
        "```\n",
        "\n",
        "<div><b><font color='#C496A4'>Contradiction</b></div>\n",
        "\n",
        "```\n",
        "This is when the two sentences cannot both be true at the same time. They completely oppose each other.\n",
        "\n",
        "Here's an example:\n",
        "\n",
        "Sentence 1: The cat is on the mat.\n",
        "\n",
        "Sentence 2: The cat is not on the mat.\n",
        "\n",
        "These two sentences directly contradict each other. Only one can be true at a time.\n",
        "\n",
        "```\n",
        "\n",
        " <div><b><font color='#C496A4'>Unrelated</b></div>\n",
        "\n",
        "```\n",
        "\n",
        "Unrelated\n",
        "\n",
        " Sometimes, sentences cover completely different topics and have no bearing on each other. They're like independent islands of information.\n",
        "\n",
        "Example:\n",
        "\n",
        "Sentence 1: I ate pizza for dinner.\n",
        "\n",
        "Sentence 2: The Eiffel Tower is in Paris.\n",
        "\n",
        "\n",
        "```\n",
        "\n"
      ],
      "metadata": {
        "id": "_cXGDDIdYQxu"
      }
    },
    {
      "cell_type": "code",
      "source": [],
      "metadata": {
        "id": "ekfd2P3gYQWH"
      },
      "execution_count": null,
      "outputs": []
    }
  ]
}